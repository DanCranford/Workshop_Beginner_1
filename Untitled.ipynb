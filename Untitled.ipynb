{
 "cells": [
  {
   "cell_type": "code",
   "execution_count": 14,
   "metadata": {},
   "outputs": [],
   "source": [
    "def pop_class(pop):\n",
    "    if pop < 25000:\n",
    "        return 'Low'\n",
    "    elif pop >= 25000 and pop < 100000:\n",
    "        return 'Medium'\n",
    "    elif pop >100000:\n",
    "        return 'High'\n"
   ]
  },
  {
   "cell_type": "markdown",
   "metadata": {},
   "source": [
    "# Conditional Logic \n"
   ]
  },
  {
   "cell_type": "code",
   "execution_count": 6,
   "metadata": {},
   "outputs": [
    {
     "data": {
      "text/plain": [
       "True"
      ]
     },
     "execution_count": 6,
     "metadata": {},
     "output_type": "execute_result"
    }
   ],
   "source": [
    "num = 8\n",
    "num % 2 == 0"
   ]
  },
  {
   "cell_type": "code",
   "execution_count": 8,
   "metadata": {},
   "outputs": [
    {
     "name": "stdout",
     "output_type": "stream",
     "text": [
      "this is even\n"
     ]
    }
   ],
   "source": [
    "num = 8\n",
    "if num % 2 == 0:\n",
    "    print('this is even')\n",
    "else:\n",
    "    print('this is odd')"
   ]
  },
  {
   "cell_type": "code",
   "execution_count": 9,
   "metadata": {},
   "outputs": [],
   "source": [
    "import arcpy"
   ]
  },
  {
   "cell_type": "code",
   "execution_count": 10,
   "metadata": {},
   "outputs": [
    {
     "data": {
      "text/plain": [
       "True"
      ]
     },
     "execution_count": 10,
     "metadata": {},
     "output_type": "execute_result"
    }
   ],
   "source": [
    "arcpy.Exists('./Week_1_Data.gdb')"
   ]
  },
  {
   "cell_type": "code",
   "execution_count": 12,
   "metadata": {},
   "outputs": [],
   "source": [
    "import pandas\n",
    "import arcgis\n",
    "sdf_fc = pandas.DataFrame.spatial.from_featureclass('./Week_1_Data.gdb/Counties_pop')"
   ]
  },
  {
   "cell_type": "code",
   "execution_count": 16,
   "metadata": {},
   "outputs": [
    {
     "data": {
      "text/html": [
       "<div>\n",
       "<style scoped>\n",
       "    .dataframe tbody tr th:only-of-type {\n",
       "        vertical-align: middle;\n",
       "    }\n",
       "\n",
       "    .dataframe tbody tr th {\n",
       "        vertical-align: top;\n",
       "    }\n",
       "\n",
       "    .dataframe thead th {\n",
       "        text-align: right;\n",
       "    }\n",
       "</style>\n",
       "<table border=\"1\" class=\"dataframe\">\n",
       "  <thead>\n",
       "    <tr style=\"text-align: right;\">\n",
       "      <th></th>\n",
       "      <th>OBJECTID</th>\n",
       "      <th>STATEFP</th>\n",
       "      <th>COUNTYFP</th>\n",
       "      <th>COUNTYNS</th>\n",
       "      <th>GEOID</th>\n",
       "      <th>NAME</th>\n",
       "      <th>NAMELSAD</th>\n",
       "      <th>LSAD</th>\n",
       "      <th>CLASSFP</th>\n",
       "      <th>MTFCC</th>\n",
       "      <th>...</th>\n",
       "      <th>CBSAFP</th>\n",
       "      <th>METDIVFP</th>\n",
       "      <th>FUNCSTAT</th>\n",
       "      <th>ALAND</th>\n",
       "      <th>AWATER</th>\n",
       "      <th>INTPTLAT</th>\n",
       "      <th>INTPTLON</th>\n",
       "      <th>Population</th>\n",
       "      <th>POP_CLASS</th>\n",
       "      <th>SHAPE</th>\n",
       "    </tr>\n",
       "  </thead>\n",
       "  <tbody>\n",
       "    <tr>\n",
       "      <td>0</td>\n",
       "      <td>1</td>\n",
       "      <td>06</td>\n",
       "      <td>091</td>\n",
       "      <td>00277310</td>\n",
       "      <td>06091</td>\n",
       "      <td>Sierra</td>\n",
       "      <td>Sierra County</td>\n",
       "      <td>06</td>\n",
       "      <td>H1</td>\n",
       "      <td>G4020</td>\n",
       "      <td>...</td>\n",
       "      <td></td>\n",
       "      <td></td>\n",
       "      <td>A</td>\n",
       "      <td>2.468695e+09</td>\n",
       "      <td>2.329911e+07</td>\n",
       "      <td>+39.5769252</td>\n",
       "      <td>-120.5219926</td>\n",
       "      <td>2930</td>\n",
       "      <td>Low</td>\n",
       "      <td>{'rings': [[[-120.65558499999997, 39.693560000...</td>\n",
       "    </tr>\n",
       "    <tr>\n",
       "      <td>1</td>\n",
       "      <td>2</td>\n",
       "      <td>06</td>\n",
       "      <td>067</td>\n",
       "      <td>00277298</td>\n",
       "      <td>06067</td>\n",
       "      <td>Sacramento</td>\n",
       "      <td>Sacramento County</td>\n",
       "      <td>06</td>\n",
       "      <td>H1</td>\n",
       "      <td>G4020</td>\n",
       "      <td>...</td>\n",
       "      <td>40900</td>\n",
       "      <td></td>\n",
       "      <td>A</td>\n",
       "      <td>2.499984e+09</td>\n",
       "      <td>7.542543e+07</td>\n",
       "      <td>+38.4500161</td>\n",
       "      <td>-121.3404408</td>\n",
       "      <td>1510023</td>\n",
       "      <td>High</td>\n",
       "      <td>{'rings': [[[-121.18857099999997, 38.714308000...</td>\n",
       "    </tr>\n",
       "    <tr>\n",
       "      <td>2</td>\n",
       "      <td>3</td>\n",
       "      <td>06</td>\n",
       "      <td>083</td>\n",
       "      <td>00277306</td>\n",
       "      <td>06083</td>\n",
       "      <td>Santa Barbara</td>\n",
       "      <td>Santa Barbara County</td>\n",
       "      <td>06</td>\n",
       "      <td>H1</td>\n",
       "      <td>G4020</td>\n",
       "      <td>...</td>\n",
       "      <td>42200</td>\n",
       "      <td></td>\n",
       "      <td>A</td>\n",
       "      <td>7.084063e+09</td>\n",
       "      <td>2.729752e+09</td>\n",
       "      <td>+34.5370572</td>\n",
       "      <td>-120.0399729</td>\n",
       "      <td>443738</td>\n",
       "      <td>High</td>\n",
       "      <td>{'rings': [[[-119.11717399999998, 33.505600000...</td>\n",
       "    </tr>\n",
       "    <tr>\n",
       "      <td>3</td>\n",
       "      <td>4</td>\n",
       "      <td>06</td>\n",
       "      <td>009</td>\n",
       "      <td>01675885</td>\n",
       "      <td>06009</td>\n",
       "      <td>Calaveras</td>\n",
       "      <td>Calaveras County</td>\n",
       "      <td>06</td>\n",
       "      <td>H1</td>\n",
       "      <td>G4020</td>\n",
       "      <td>...</td>\n",
       "      <td></td>\n",
       "      <td></td>\n",
       "      <td>A</td>\n",
       "      <td>2.641785e+09</td>\n",
       "      <td>4.384187e+07</td>\n",
       "      <td>+38.1838996</td>\n",
       "      <td>-120.5614415</td>\n",
       "      <td>45235</td>\n",
       "      <td>Medium</td>\n",
       "      <td>{'rings': [[[-120.63093299999997, 38.341100000...</td>\n",
       "    </tr>\n",
       "    <tr>\n",
       "      <td>4</td>\n",
       "      <td>5</td>\n",
       "      <td>06</td>\n",
       "      <td>111</td>\n",
       "      <td>00277320</td>\n",
       "      <td>06111</td>\n",
       "      <td>Ventura</td>\n",
       "      <td>Ventura County</td>\n",
       "      <td>06</td>\n",
       "      <td>H1</td>\n",
       "      <td>G4020</td>\n",
       "      <td>...</td>\n",
       "      <td>37100</td>\n",
       "      <td></td>\n",
       "      <td>A</td>\n",
       "      <td>4.771988e+09</td>\n",
       "      <td>9.473454e+08</td>\n",
       "      <td>+34.3587415</td>\n",
       "      <td>-119.1331432</td>\n",
       "      <td>848112</td>\n",
       "      <td>High</td>\n",
       "      <td>{'rings': [[[-119.63606799999997, 33.280713000...</td>\n",
       "    </tr>\n",
       "  </tbody>\n",
       "</table>\n",
       "<p>5 rows × 21 columns</p>\n",
       "</div>"
      ],
      "text/plain": [
       "   OBJECTID STATEFP COUNTYFP  COUNTYNS  GEOID           NAME  \\\n",
       "0         1      06      091  00277310  06091         Sierra   \n",
       "1         2      06      067  00277298  06067     Sacramento   \n",
       "2         3      06      083  00277306  06083  Santa Barbara   \n",
       "3         4      06      009  01675885  06009      Calaveras   \n",
       "4         5      06      111  00277320  06111        Ventura   \n",
       "\n",
       "               NAMELSAD LSAD CLASSFP  MTFCC  ... CBSAFP METDIVFP FUNCSTAT  \\\n",
       "0         Sierra County   06      H1  G4020  ...                        A   \n",
       "1     Sacramento County   06      H1  G4020  ...  40900                 A   \n",
       "2  Santa Barbara County   06      H1  G4020  ...  42200                 A   \n",
       "3      Calaveras County   06      H1  G4020  ...                        A   \n",
       "4        Ventura County   06      H1  G4020  ...  37100                 A   \n",
       "\n",
       "          ALAND        AWATER     INTPTLAT      INTPTLON Population  \\\n",
       "0  2.468695e+09  2.329911e+07  +39.5769252  -120.5219926       2930   \n",
       "1  2.499984e+09  7.542543e+07  +38.4500161  -121.3404408    1510023   \n",
       "2  7.084063e+09  2.729752e+09  +34.5370572  -120.0399729     443738   \n",
       "3  2.641785e+09  4.384187e+07  +38.1838996  -120.5614415      45235   \n",
       "4  4.771988e+09  9.473454e+08  +34.3587415  -119.1331432     848112   \n",
       "\n",
       "   POP_CLASS                                              SHAPE  \n",
       "0        Low  {'rings': [[[-120.65558499999997, 39.693560000...  \n",
       "1       High  {'rings': [[[-121.18857099999997, 38.714308000...  \n",
       "2       High  {'rings': [[[-119.11717399999998, 33.505600000...  \n",
       "3     Medium  {'rings': [[[-120.63093299999997, 38.341100000...  \n",
       "4       High  {'rings': [[[-119.63606799999997, 33.280713000...  \n",
       "\n",
       "[5 rows x 21 columns]"
      ]
     },
     "execution_count": 16,
     "metadata": {},
     "output_type": "execute_result"
    }
   ],
   "source": [
    "numpee = arcpy.FeatureClassToNumPyArray(fc, ['GEOID'])\n"
   ]
  },
  {
   "cell_type": "code",
   "execution_count": null,
   "metadata": {},
   "outputs": [],
   "source": []
  }
 ],
 "metadata": {
  "kernelspec": {
   "display_name": "Python 3",
   "language": "python",
   "name": "python3"
  },
  "language_info": {
   "codemirror_mode": {
    "name": "ipython",
    "version": 3
   },
   "file_extension": ".py",
   "mimetype": "text/x-python",
   "name": "python",
   "nbconvert_exporter": "python",
   "pygments_lexer": "ipython3",
   "version": "3.6.9"
  }
 },
 "nbformat": 4,
 "nbformat_minor": 2
}
