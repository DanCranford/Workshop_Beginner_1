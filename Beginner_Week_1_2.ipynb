{
 "cells": [
  {
   "cell_type": "code",
   "execution_count": 14,
   "metadata": {},
   "outputs": [],
   "source": [
    "def pop_class(pop):\n",
    "    if pop < 25000:\n",
    "        return 'Low'\n",
    "    elif pop >= 25000 and pop < 100000:\n",
    "        return 'Medium'\n",
    "    elif pop >100000:\n",
    "        return 'High'\n"
   ]
  },
  {
   "cell_type": "markdown",
   "metadata": {},
   "source": [
    "# Conditional Logic \n"
   ]
  },
  {
   "cell_type": "code",
   "execution_count": 6,
   "metadata": {},
   "outputs": [
    {
     "data": {
      "text/plain": [
       "True"
      ]
     },
     "execution_count": 6,
     "metadata": {},
     "output_type": "execute_result"
    }
   ],
   "source": [
    "number = 8\n",
    "number % 2 == 0\n",
    "#The % sign gives you the remainder of a division operation."
   ]
  },
  {
   "cell_type": "code",
   "execution_count": 8,
   "metadata": {
    "scrolled": false
   },
   "outputs": [
    {
     "name": "stdout",
     "output_type": "stream",
     "text": [
      "this is even\n"
     ]
    }
   ],
   "source": [
    "number = 8\n",
    "if number % 2 == 0:\n",
    "    print('this is even')\n",
    "else:\n",
    "    print('this is odd')"
   ]
  },
  {
   "cell_type": "markdown",
   "metadata": {},
   "source": [
    "# Loops"
   ]
  },
  {
   "cell_type": "code",
   "execution_count": 1,
   "metadata": {},
   "outputs": [
    {
     "name": "stdout",
     "output_type": "stream",
     "text": [
      "1\n",
      "2\n",
      "3\n",
      "4\n",
      "5\n",
      "6\n",
      "7\n",
      "9\n",
      "7\n",
      "10\n"
     ]
    }
   ],
   "source": [
    "list_of_numbers = [1,2,3,4,5,6,7,9,7,10]\n",
    "\n",
    "for number in list_of_numbers:\n",
    "    print(number)"
   ]
  },
  {
   "cell_type": "code",
   "execution_count": 3,
   "metadata": {},
   "outputs": [
    {
     "name": "stdout",
     "output_type": "stream",
     "text": [
      "1 is odd\n",
      "2 is even\n",
      "3 is odd\n",
      "4 is even\n",
      "5 is odd\n",
      "6 is even\n",
      "7 is odd\n",
      "9 is odd\n",
      "7 is odd\n",
      "10 is even\n"
     ]
    }
   ],
   "source": [
    "for number in list_of_numbers:\n",
    "    if number % 2 == 0:\n",
    "        print(number, 'is even')\n",
    "    else:\n",
    "        print(number, 'is odd')"
   ]
  },
  {
   "cell_type": "code",
   "execution_count": 7,
   "metadata": {},
   "outputs": [
    {
     "name": "stdout",
     "output_type": "stream",
     "text": [
      "1 is odd\n",
      "2 is even\n",
      "2 is even\n",
      "3 is odd\n",
      "6 is even\n",
      "4 is even\n",
      "5 is odd\n",
      "10 is even\n",
      "6 is even\n",
      "7 is odd\n",
      "14 is even\n",
      "9 is odd\n",
      "18 is even\n",
      "7 is odd\n",
      "14 is even\n",
      "10 is even\n"
     ]
    }
   ],
   "source": [
    "for number in list_of_numbers:\n",
    "    if number % 2 == 0:\n",
    "        print(number, 'is even')\n",
    "    else:\n",
    "        print(number, 'is odd')\n",
    "        double_number = number * 2\n",
    "        print(double_number, 'is even')"
   ]
  },
  {
   "cell_type": "code",
   "execution_count": 6,
   "metadata": {},
   "outputs": [
    {
     "name": "stdout",
     "output_type": "stream",
     "text": [
      "0\n",
      "2\n",
      "4\n",
      "6\n",
      "8\n"
     ]
    }
   ],
   "source": [
    "#now let's look at a how a range behaves in a for loop.\n",
    "\n",
    "for i in range(10):\n",
    "    if i % 2:\n",
    "        print(i)"
   ]
  },
  {
   "cell_type": "code",
   "execution_count": null,
   "metadata": {},
   "outputs": [],
   "source": []
  }
 ],
 "metadata": {
  "kernelspec": {
   "display_name": "Python 3",
   "language": "python",
   "name": "python3"
  },
  "language_info": {
   "codemirror_mode": {
    "name": "ipython",
    "version": 3
   },
   "file_extension": ".py",
   "mimetype": "text/x-python",
   "name": "python",
   "nbconvert_exporter": "python",
   "pygments_lexer": "ipython3",
   "version": "3.6.9"
  }
 },
 "nbformat": 4,
 "nbformat_minor": 2
}
